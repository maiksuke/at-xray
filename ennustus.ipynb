{
 "cells": [
  {
   "cell_type": "code",
   "execution_count": 10,
   "metadata": {},
   "outputs": [
    {
     "name": "stdout",
     "output_type": "stream",
     "text": [
      "Laen mudelit failist: model_checkpoints/model_epoch_955.keras\n"
     ]
    },
    {
     "data": {
      "text/html": [
       "<pre style=\"white-space:pre;overflow-x:auto;line-height:normal;font-family:Menlo,'DejaVu Sans Mono',consolas,'Courier New',monospace\"><span style=\"font-weight: bold\">Model: \"sequential_1\"</span>\n",
       "</pre>\n"
      ],
      "text/plain": [
       "\u001b[1mModel: \"sequential_1\"\u001b[0m\n"
      ]
     },
     "metadata": {},
     "output_type": "display_data"
    },
    {
     "data": {
      "text/html": [
       "<pre style=\"white-space:pre;overflow-x:auto;line-height:normal;font-family:Menlo,'DejaVu Sans Mono',consolas,'Courier New',monospace\">┏━━━━━━━━━━━━━━━━━━━━━━━━━━━━━━━━━┳━━━━━━━━━━━━━━━━━━━━━━━━┳━━━━━━━━━━━━━━━┓\n",
       "┃<span style=\"font-weight: bold\"> Layer (type)                    </span>┃<span style=\"font-weight: bold\"> Output Shape           </span>┃<span style=\"font-weight: bold\">       Param # </span>┃\n",
       "┡━━━━━━━━━━━━━━━━━━━━━━━━━━━━━━━━━╇━━━━━━━━━━━━━━━━━━━━━━━━╇━━━━━━━━━━━━━━━┩\n",
       "│ resnet50 (<span style=\"color: #0087ff; text-decoration-color: #0087ff\">Functional</span>)           │ (<span style=\"color: #00d7ff; text-decoration-color: #00d7ff\">None</span>, <span style=\"color: #00af00; text-decoration-color: #00af00\">7</span>, <span style=\"color: #00af00; text-decoration-color: #00af00\">7</span>, <span style=\"color: #00af00; text-decoration-color: #00af00\">2048</span>)     │    <span style=\"color: #00af00; text-decoration-color: #00af00\">23,587,712</span> │\n",
       "├─────────────────────────────────┼────────────────────────┼───────────────┤\n",
       "│ global_average_pooling2d_1      │ (<span style=\"color: #00d7ff; text-decoration-color: #00d7ff\">None</span>, <span style=\"color: #00af00; text-decoration-color: #00af00\">2048</span>)           │             <span style=\"color: #00af00; text-decoration-color: #00af00\">0</span> │\n",
       "│ (<span style=\"color: #0087ff; text-decoration-color: #0087ff\">GlobalAveragePooling2D</span>)        │                        │               │\n",
       "├─────────────────────────────────┼────────────────────────┼───────────────┤\n",
       "│ dense_1 (<span style=\"color: #0087ff; text-decoration-color: #0087ff\">Dense</span>)                 │ (<span style=\"color: #00d7ff; text-decoration-color: #00d7ff\">None</span>, <span style=\"color: #00af00; text-decoration-color: #00af00\">4</span>)              │         <span style=\"color: #00af00; text-decoration-color: #00af00\">8,196</span> │\n",
       "└─────────────────────────────────┴────────────────────────┴───────────────┘\n",
       "</pre>\n"
      ],
      "text/plain": [
       "┏━━━━━━━━━━━━━━━━━━━━━━━━━━━━━━━━━┳━━━━━━━━━━━━━━━━━━━━━━━━┳━━━━━━━━━━━━━━━┓\n",
       "┃\u001b[1m \u001b[0m\u001b[1mLayer (type)                   \u001b[0m\u001b[1m \u001b[0m┃\u001b[1m \u001b[0m\u001b[1mOutput Shape          \u001b[0m\u001b[1m \u001b[0m┃\u001b[1m \u001b[0m\u001b[1m      Param #\u001b[0m\u001b[1m \u001b[0m┃\n",
       "┡━━━━━━━━━━━━━━━━━━━━━━━━━━━━━━━━━╇━━━━━━━━━━━━━━━━━━━━━━━━╇━━━━━━━━━━━━━━━┩\n",
       "│ resnet50 (\u001b[38;5;33mFunctional\u001b[0m)           │ (\u001b[38;5;45mNone\u001b[0m, \u001b[38;5;34m7\u001b[0m, \u001b[38;5;34m7\u001b[0m, \u001b[38;5;34m2048\u001b[0m)     │    \u001b[38;5;34m23,587,712\u001b[0m │\n",
       "├─────────────────────────────────┼────────────────────────┼───────────────┤\n",
       "│ global_average_pooling2d_1      │ (\u001b[38;5;45mNone\u001b[0m, \u001b[38;5;34m2048\u001b[0m)           │             \u001b[38;5;34m0\u001b[0m │\n",
       "│ (\u001b[38;5;33mGlobalAveragePooling2D\u001b[0m)        │                        │               │\n",
       "├─────────────────────────────────┼────────────────────────┼───────────────┤\n",
       "│ dense_1 (\u001b[38;5;33mDense\u001b[0m)                 │ (\u001b[38;5;45mNone\u001b[0m, \u001b[38;5;34m4\u001b[0m)              │         \u001b[38;5;34m8,196\u001b[0m │\n",
       "└─────────────────────────────────┴────────────────────────┴───────────────┘\n"
      ]
     },
     "metadata": {},
     "output_type": "display_data"
    },
    {
     "data": {
      "text/html": [
       "<pre style=\"white-space:pre;overflow-x:auto;line-height:normal;font-family:Menlo,'DejaVu Sans Mono',consolas,'Courier New',monospace\"><span style=\"font-weight: bold\"> Total params: </span><span style=\"color: #00af00; text-decoration-color: #00af00\">23,612,302</span> (90.07 MB)\n",
       "</pre>\n"
      ],
      "text/plain": [
       "\u001b[1m Total params: \u001b[0m\u001b[38;5;34m23,612,302\u001b[0m (90.07 MB)\n"
      ]
     },
     "metadata": {},
     "output_type": "display_data"
    },
    {
     "data": {
      "text/html": [
       "<pre style=\"white-space:pre;overflow-x:auto;line-height:normal;font-family:Menlo,'DejaVu Sans Mono',consolas,'Courier New',monospace\"><span style=\"font-weight: bold\"> Trainable params: </span><span style=\"color: #00af00; text-decoration-color: #00af00\">8,196</span> (32.02 KB)\n",
       "</pre>\n"
      ],
      "text/plain": [
       "\u001b[1m Trainable params: \u001b[0m\u001b[38;5;34m8,196\u001b[0m (32.02 KB)\n"
      ]
     },
     "metadata": {},
     "output_type": "display_data"
    },
    {
     "data": {
      "text/html": [
       "<pre style=\"white-space:pre;overflow-x:auto;line-height:normal;font-family:Menlo,'DejaVu Sans Mono',consolas,'Courier New',monospace\"><span style=\"font-weight: bold\"> Non-trainable params: </span><span style=\"color: #00af00; text-decoration-color: #00af00\">23,587,712</span> (89.98 MB)\n",
       "</pre>\n"
      ],
      "text/plain": [
       "\u001b[1m Non-trainable params: \u001b[0m\u001b[38;5;34m23,587,712\u001b[0m (89.98 MB)\n"
      ]
     },
     "metadata": {},
     "output_type": "display_data"
    },
    {
     "data": {
      "text/html": [
       "<pre style=\"white-space:pre;overflow-x:auto;line-height:normal;font-family:Menlo,'DejaVu Sans Mono',consolas,'Courier New',monospace\"><span style=\"font-weight: bold\"> Optimizer params: </span><span style=\"color: #00af00; text-decoration-color: #00af00\">16,394</span> (64.04 KB)\n",
       "</pre>\n"
      ],
      "text/plain": [
       "\u001b[1m Optimizer params: \u001b[0m\u001b[38;5;34m16,394\u001b[0m (64.04 KB)\n"
      ]
     },
     "metadata": {},
     "output_type": "display_data"
    },
    {
     "name": "stdout",
     "output_type": "stream",
     "text": [
      "Viga pildi laadimisel: uued/.DS_Store\n",
      "WARNING:tensorflow:6 out of the last 6 calls to <function TensorFlowTrainer.make_predict_function.<locals>.one_step_on_data_distributed at 0x17a598430> triggered tf.function retracing. Tracing is expensive and the excessive number of tracings could be due to (1) creating @tf.function repeatedly in a loop, (2) passing tensors with different shapes, (3) passing Python objects instead of tensors. For (1), please define your @tf.function outside of the loop. For (2), @tf.function has reduce_retracing=True option that can avoid unnecessary retracing. For (3), please refer to https://www.tensorflow.org/guide/function#controlling_retracing and https://www.tensorflow.org/api_docs/python/tf/function for  more details.\n",
      "\u001b[1m1/1\u001b[0m \u001b[32m━━━━━━━━━━━━━━━━━━━━\u001b[0m\u001b[37m\u001b[0m \u001b[1m1s\u001b[0m 647ms/step\n",
      "Pildi nimi: person1_virus_13.jpeg, Ennustus: PNEUMONIA, Tõenäosus: 0.75, Teine valik: NORMAL, Tõenäosus: 0.25\n",
      "Pildi nimi: normal.jpeg, Ennustus: NORMAL, Tõenäosus: 0.42, Teine valik: PNEUMONIA, Tõenäosus: 0.40\n",
      "Pildi nimi: Tuberculosis-34.png, Ennustus: COVID19, Tõenäosus: 0.38, Teine valik: PNEUMONIA, Tõenäosus: 0.33\n",
      "Pildi nimi: COVID19(337).jpg, Ennustus: NORMAL, Tõenäosus: 0.55, Teine valik: COVID19, Tõenäosus: 0.35\n",
      "Pildi nimi: Normal_posteroanterior_(PA)_chest_radiograph_(X-ray).jpg, Ennustus: COVID19, Tõenäosus: 0.66, Teine valik: PNEUMONIA, Tõenäosus: 0.23\n",
      "Pildi nimi: Tuberculosis-15.png, Ennustus: PNEUMONIA, Tõenäosus: 0.48, Teine valik: TUBERCULOSIS, Tõenäosus: 0.28\n",
      "Pildi nimi: COVID19(12).jpg, Ennustus: PNEUMONIA, Tõenäosus: 0.76, Teine valik: COVID19, Tõenäosus: 0.22\n",
      "Pildi nimi: person9_bacteria_40.jpeg, Ennustus: PNEUMONIA, Tõenäosus: 0.91, Teine valik: NORMAL, Tõenäosus: 0.07\n"
     ]
    }
   ],
   "source": [
    "import os\n",
    "import numpy as np\n",
    "import tensorflow as tf\n",
    "from tensorflow.keras.preprocessing.image import load_img, img_to_array\n",
    "from PIL import UnidentifiedImageError\n",
    "\n",
    "\n",
    "# Funktsioon mudeli laadimiseks kindlast epohhist\n",
    "def load_model_from_epoch(checkpoint_dir, epoch_num):\n",
    "    model_path = os.path.join(checkpoint_dir, f\"model_epoch_{epoch_num:02d}.keras\")\n",
    "    if os.path.exists(model_path):\n",
    "        print(f\"Laen mudelit failist: {model_path}\")\n",
    "        return tf.keras.models.load_model(model_path)\n",
    "    else:\n",
    "        raise FileNotFoundError(f\"Faili {model_path} ei leitud.\")\n",
    "\n",
    "\n",
    "# Funktsioon piltide laadimiseks kaustast\n",
    "def load_images_from_folder(folder_path, target_size=(224, 224)):\n",
    "    images = []\n",
    "    image_names = []\n",
    "    for img_name in os.listdir(folder_path):\n",
    "        img_path = os.path.join(folder_path, img_name)\n",
    "        try:\n",
    "            img = load_img(img_path, target_size=target_size)\n",
    "            img_array = img_to_array(img)\n",
    "            images.append(img_array)\n",
    "            image_names.append(img_name)\n",
    "        except UnidentifiedImageError:\n",
    "            print(f\"Viga pildi laadimisel: {img_path}\")\n",
    "    return np.array(images), image_names\n",
    "\n",
    "\n",
    "# Laadige mudel kindlast epohhist\n",
    "checkpoint_dir = \"model_checkpoints\"\n",
    "epoch_num = 955  # epohh, millest mudel laadida\n",
    "model = load_model_from_epoch(checkpoint_dir, epoch_num)\n",
    "\n",
    "# Kuvage mudeli struktuur\n",
    "model.summary()\n",
    "\n",
    "# Määrake piltide kaust\n",
    "images_folder = \"uued\"  # piltide kaust\n",
    "\n",
    "# Laadige pildid kaustast\n",
    "images, image_names = load_images_from_folder(images_folder)\n",
    "\n",
    "# Normaliseerige pildid, et need oleksid vahemikus [0, 1]\n",
    "images = images / 255.0\n",
    "\n",
    "# Ennustamine piltide kohta\n",
    "predictions = model.predict(images)\n",
    "predicted_classes = np.argmax(predictions, axis=1)\n",
    "\n",
    "# Kuvame tulemused\n",
    "categories = [\"COVID19\", \"NORMAL\", \"PNEUMONIA\", \"TUBERCULOSIS\"]\n",
    "for i, prediction in enumerate(predictions):\n",
    "    predicted_class = np.argmax(prediction)  # Kõrgeima tõenäosusega klass\n",
    "    second_predicted_class = np.argsort(prediction)[\n",
    "        -2\n",
    "    ]  # Teise kõrgeima tõenäosusega klass\n",
    "    img_name = image_names[i]\n",
    "    print(\n",
    "        f\"Pildi nimi: {img_name}, \"\n",
    "        f\"Ennustus: {categories[predicted_class]}, Tõenäosus: {prediction[predicted_class]:.2f}, \"\n",
    "        f\"Teine valik: {categories[second_predicted_class]}, Tõenäosus: {prediction[second_predicted_class]:.2f}\"\n",
    "    )"
   ]
  }
 ],
 "metadata": {
  "kernelspec": {
   "display_name": "Python 3",
   "language": "python",
   "name": "python3"
  },
  "language_info": {
   "codemirror_mode": {
    "name": "ipython",
    "version": 3
   },
   "file_extension": ".py",
   "mimetype": "text/x-python",
   "name": "python",
   "nbconvert_exporter": "python",
   "pygments_lexer": "ipython3",
   "version": "3.10.15"
  }
 },
 "nbformat": 4,
 "nbformat_minor": 2
}
